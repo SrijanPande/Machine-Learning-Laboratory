{
  "nbformat": 4,
  "nbformat_minor": 0,
  "metadata": {
    "colab": {
      "provenance": []
    },
    "kernelspec": {
      "name": "python3",
      "display_name": "Python 3"
    },
    "language_info": {
      "name": "python"
    }
  },
  "cells": [
    {
      "cell_type": "code",
      "execution_count": null,
      "metadata": {
        "id": "-_Ok4fhBly3q"
      },
      "outputs": [],
      "source": [
        "import pandas as pd\n",
        "import numpy as np\n",
        "import matplotlib.pyplot as plt\n",
        "import seaborn as sns\n",
        "from sklearn.impute import SimpleImputer\n",
        "\n",
        "url = \"https://raw.githubusercontent.com/datasciencedojo/datasets/master/titanic.csv\"\n",
        "df = pd.read_csv(url)\n",
        "print(f\"Dataset shape: {df.shape}\")\n",
        "#print(f\"Dataset description: {df.describe}\")\n",
        "df.head()"
      ]
    },
    {
      "cell_type": "code",
      "source": [
        "\n",
        "df.info()\n",
        "\n",
        "df.describe()\n",
        "\n",
        "missing_data = df.isnull().sum()\n",
        "missing_percent = (df.isnull().sum() / len(df)) * 100\n",
        "missing_df = pd.DataFrame({\n",
        "    'Column': missing_data.index,\n",
        "    'Missing_Count': missing_data.values,\n",
        "    'Missing_Percentage': missing_percent.values\n",
        "})\n",
        "missing_df = missing_df[missing_df['Missing_Count'] > 0].sort_values('Missing_Count', ascending=False)\n",
        "print(missing_df)\n",
        "\n",
        "numeric_cols = df.select_dtypes(include=[np.number]).columns\n",
        "corr_matrix = df[numeric_cols].corr()\n",
        "\n",
        "plt.figure(figsize=(12, 8))\n",
        "sns.heatmap(corr_matrix, annot=True, cmap='coolwarm', center=0, square=True, linewidths=0.5)\n",
        "plt.title('Correlation Heatmap of Titanic Dataset Features')\n",
        "plt.tight_layout()\n",
        "plt.show()\n"
      ],
      "metadata": {
        "id": "ohdjiOYpnHnC"
      },
      "execution_count": null,
      "outputs": []
    },
    {
      "cell_type": "code",
      "source": [
        "\n",
        "df_clean = df.copy()\n",
        "\n",
        "if df_clean['Age'].isnull().sum() > 0:\n",
        "    age_median = df_clean['Age'].median()\n",
        "    df_clean['Age_Imputed'] = df_clean['Age'].isnull().astype(int)\n",
        "    df_clean['Age'] = df_clean['Age'].fillna(age_median)\n",
        "\n",
        "if df_clean['Embarked'].isnull().sum() > 0:\n",
        "    embarked_mode = df_clean['Embarked'].mode()[0]\n",
        "    df_clean['Embarked_Imputed'] = df_clean['Embarked'].isnull().astype(int)\n",
        "    df_clean['Embarked'] = df_clean['Embarked'].fillna(embarked_mode)\n",
        "\n",
        "if df_clean['Cabin'].isnull().sum() > 0:\n",
        "    df_clean['Cabin_Missing'] = df_clean['Cabin'].isnull().astype(int)\n",
        "    df_clean['Cabin'] = df_clean['Cabin'].fillna('Unknown')\n",
        "\n",
        "if df_clean['Fare'].isnull().sum() > 0:\n",
        "    fare_median = df_clean['Fare'].median()\n",
        "    df_clean['Fare_Imputed'] = df_clean['Fare'].isnull().astype(int)\n",
        "    df_clean['Fare'] = df_clean['Fare'].fillna(fare_median)\n",
        "\n",
        "print(\"Missing values after imputation:\")\n",
        "print(df_clean.isnull().sum())\n"
      ],
      "metadata": {
        "id": "7rcVB2PVn7nN"
      },
      "execution_count": null,
      "outputs": []
    },
    {
      "cell_type": "code",
      "source": [
        "\n",
        "Q1 = df_clean['Fare'].quantile(0.25)\n",
        "Q3 = df_clean['Fare'].quantile(0.75)\n",
        "IQR = Q3 - Q1\n",
        "\n",
        "lower_bound = Q1 - 1.5 * IQR\n",
        "upper_bound = Q3 + 1.5 * IQR\n",
        "\n",
        "outliers = df_clean[(df_clean['Fare'] < lower_bound) | (df_clean['Fare'] > upper_bound)]\n",
        "print(f\"Outliers detected: {len(outliers)} ({len(outliers)/len(df_clean)*100:.1f}%)\")\n",
        "\n",
        "plt.figure(figsize=(12, 6))\n",
        "\n",
        "plt.subplot(1, 2, 1)\n",
        "plt.boxplot(df_clean['Fare'], vert=True)\n",
        "plt.title('Fare Distribution - Before Treatment')\n",
        "plt.ylabel('Fare')\n",
        "\n",
        "fare_95th = df_clean['Fare'].quantile(0.95)\n",
        "df_clean['Fare_Original'] = df_clean['Fare'].copy()\n",
        "df_clean['Fare'] = df_clean['Fare'].clip(upper=fare_95th)\n",
        "\n",
        "plt.subplot(1, 2, 2)\n",
        "plt.boxplot(df_clean['Fare'], vert=True)\n",
        "plt.title('Fare Distribution - After Winsorization')\n",
        "plt.ylabel('Fare')\n",
        "\n",
        "plt.tight_layout()\n",
        "plt.show()\n"
      ],
      "metadata": {
        "id": "F_uFPwE8oEqe"
      },
      "execution_count": null,
      "outputs": []
    },
    {
      "cell_type": "code",
      "source": [
        "df_clean.to_csv('clean_v1.csv', index=False)\n",
        "\n",
        "decision_log = \"\"\"# Decision Log – Titanic Data Processing\n",
        "…\"\"\"\n",
        "with open('decision_log.md', 'w') as f:\n",
        "    f.write(decision_log)\n",
        "\n",
        "data_card = \"\"\"# Data Card – Titanic Dataset (Clean Version 1)\n",
        "…\"\"\"\n",
        "with open('data_card.md', 'w') as f:\n",
        "    f.write(data_card)\n",
        "\n",
        "import zipfile, os\n",
        "files_to_zip = ['clean_v1.csv', 'decision_log.md', 'data_card.md']\n",
        "with zipfile.ZipFile('titanic_processed.zip', 'w') as zf:\n",
        "    for fname in files_to_zip:\n",
        "        zf.write(fname)\n",
        "\n",
        "from IPython.display import FileLink\n",
        "print(\"Download the archive:\")\n",
        "display(FileLink('titanic_processed.zip', result_html_prefix=\"📦 \"))\n",
        "\n",
        "try:\n",
        "    from google.colab import files as gfiles\n",
        "    gfiles.download('titanic_processed.zip')\n",
        "except ImportError:\n",
        "    pass\n"
      ],
      "metadata": {
        "colab": {
          "base_uri": "https://localhost:8080/",
          "height": 53
        },
        "id": "MtDBpeker7h9",
        "outputId": "6151adfb-cb57-4e98-d695-a1523af4e875"
      },
      "execution_count": 34,
      "outputs": [
        {
          "output_type": "stream",
          "name": "stdout",
          "text": [
            "Download the archive:\n"
          ]
        },
        {
          "output_type": "display_data",
          "data": {
            "text/plain": [
              "/content/titanic_processed.zip"
            ],
            "text/html": [
              "📦 <a href='titanic_processed.zip' target='_blank'>titanic_processed.zip</a><br>"
            ]
          },
          "metadata": {}
        },
        {
          "output_type": "display_data",
          "data": {
            "text/plain": [
              "<IPython.core.display.Javascript object>"
            ],
            "application/javascript": [
              "\n",
              "    async function download(id, filename, size) {\n",
              "      if (!google.colab.kernel.accessAllowed) {\n",
              "        return;\n",
              "      }\n",
              "      const div = document.createElement('div');\n",
              "      const label = document.createElement('label');\n",
              "      label.textContent = `Downloading \"${filename}\": `;\n",
              "      div.appendChild(label);\n",
              "      const progress = document.createElement('progress');\n",
              "      progress.max = size;\n",
              "      div.appendChild(progress);\n",
              "      document.body.appendChild(div);\n",
              "\n",
              "      const buffers = [];\n",
              "      let downloaded = 0;\n",
              "\n",
              "      const channel = await google.colab.kernel.comms.open(id);\n",
              "      // Send a message to notify the kernel that we're ready.\n",
              "      channel.send({})\n",
              "\n",
              "      for await (const message of channel.messages) {\n",
              "        // Send a message to notify the kernel that we're ready.\n",
              "        channel.send({})\n",
              "        if (message.buffers) {\n",
              "          for (const buffer of message.buffers) {\n",
              "            buffers.push(buffer);\n",
              "            downloaded += buffer.byteLength;\n",
              "            progress.value = downloaded;\n",
              "          }\n",
              "        }\n",
              "      }\n",
              "      const blob = new Blob(buffers, {type: 'application/binary'});\n",
              "      const a = document.createElement('a');\n",
              "      a.href = window.URL.createObjectURL(blob);\n",
              "      a.download = filename;\n",
              "      div.appendChild(a);\n",
              "      a.click();\n",
              "      div.remove();\n",
              "    }\n",
              "  "
            ]
          },
          "metadata": {}
        },
        {
          "output_type": "display_data",
          "data": {
            "text/plain": [
              "<IPython.core.display.Javascript object>"
            ],
            "application/javascript": [
              "download(\"download_3e5aaa65-f9cf-473c-8455-e1ab2ed05fd7\", \"titanic_processed.zip\", 78899)"
            ]
          },
          "metadata": {}
        }
      ]
    }
  ]
}